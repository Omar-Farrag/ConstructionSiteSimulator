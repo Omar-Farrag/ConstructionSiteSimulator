{
 "cells": [
  {
   "cell_type": "markdown",
   "metadata": {},
   "source": [
    "# <span style=\"color: green;\">Log Filtering Logic</span>"
   ]
  },
  {
   "cell_type": "code",
   "execution_count": 1,
   "metadata": {},
   "outputs": [],
   "source": [
    "import os\n",
    "import pandas as pd\n",
    "\n",
    "def combine_and_filter_csv_files(directory, object_name_filter):\n",
    "    combined_data = pd.DataFrame()\n",
    "\n",
    "    # Iterate over all CSV files in the directory\n",
    "    for filename in os.listdir(directory):\n",
    "        if filename.endswith(\".csv\"):\n",
    "            file_path = os.path.join(directory, filename)\n",
    "            \n",
    "            try:\n",
    "                # Read the current CSV file into a DataFrame\n",
    "                df = pd.read_csv(file_path)\n",
    "                \n",
    "                # Check if the required columns exist\n",
    "                required_columns = ['Timestamp', 'Object Name', 'Event']\n",
    "                missing_columns = [col for col in required_columns if col not in df.columns]\n",
    "                if missing_columns:\n",
    "                    # print(f\"Skipping {filename}: Missing columns {missing_columns}\")\n",
    "                    continue\n",
    "                \n",
    "                # Select only the required columns\n",
    "                df = df[required_columns]\n",
    "\n",
    "                # Append to the combined DataFrame\n",
    "                combined_data = pd.concat([combined_data, df], ignore_index=True)\n",
    "            except Exception as e:\n",
    "                print(f\"Error reading {filename}: {e}\")\n",
    "    \n",
    "    # Filter rows by object name\n",
    "    filtered_data = combined_data[combined_data['Object Name'].isin(object_name_filter)]\n",
    "\n",
    "    # Convert 'Timestamp' to datetime and sort\n",
    "    filtered_data['Timestamp'] = pd.to_datetime(filtered_data['Timestamp'], errors='coerce')\n",
    "    filtered_data = filtered_data.dropna(subset=['Timestamp']).sort_values(by='Timestamp')\n",
    "    \n",
    "    return filtered_data\n"
   ]
  },
  {
   "cell_type": "markdown",
   "metadata": {},
   "source": [
    "# <span style=\"color: green;\">UML Code Generation Logic</span>"
   ]
  },
  {
   "cell_type": "code",
   "execution_count": 2,
   "metadata": {},
   "outputs": [],
   "source": [
    "import re\n",
    "\n",
    "def create_plantuml_sequence(logs):\n",
    "    plantuml_code = '@startuml\\n'\n",
    "    \n",
    "    # Add participants (Object Names)\n",
    "    participants = set()\n",
    "    for log in logs:\n",
    "        parts = log.split(\",\")\n",
    "        object_name = parts[1].strip()\n",
    "        participants.add(object_name)\n",
    "    \n",
    "    # Add participants to the sequence diagram\n",
    "    for participant in participants:\n",
    "        plantuml_code += f'participant {participant}\\n'\n",
    "    \n",
    "    # Store event mappings\n",
    "    event_mapping = {}\n",
    "    event_counter = 1\n",
    "    \n",
    "    # Add interactions based on events\n",
    "    for log in logs:\n",
    "        parts = log.split(\",\")\n",
    "        timestamp = parts[0].strip()  # Extract timestamp\n",
    "        object_name = parts[1].strip()\n",
    "        event = parts[2].strip()\n",
    "        \n",
    "        # Add event to the mapping with timestamp and event\n",
    "        event_mapping[event_counter] = f'[{timestamp[11:]}] {event}'  # Keep only time portion (hh:mm:ss)\n",
    "        \n",
    "        # Replace event text with number\n",
    "        plantuml_code += f'{object_name} -> {object_name} : {event_counter}\\n'\n",
    "    \n",
    "        event_counter += 1\n",
    "        \n",
    "    # Add the note with the event mappings (timestamp will be shown here)\n",
    "    plantuml_code += 'note right of ' + list(participants)[0] + '\\n'\n",
    "    \n",
    "    for num, msg in event_mapping.items():\n",
    "        plantuml_code += f'  {num}: {msg}\\n'\n",
    "    \n",
    "    plantuml_code += 'end note\\n'\n",
    "    plantuml_code += '@enduml\\n'\n",
    "    \n",
    "    return plantuml_code\n"
   ]
  },
  {
   "cell_type": "markdown",
   "metadata": {},
   "source": [
    "# <span style=\"color: green;\">Extracting Certain Records Logic</span>"
   ]
  },
  {
   "cell_type": "code",
   "execution_count": 11,
   "metadata": {},
   "outputs": [],
   "source": [
    "import csv\n",
    "\n",
    "csv_file_path = 'CombinedLogs.csv'\n",
    "\n",
    "def get_specific_line_numbers(csv_file_path, line_numbers_to_store):\n",
    "    stored_lines = []\n",
    "    \n",
    "    # Open the CSV file\n",
    "    with open(csv_file_path, mode='r') as file:\n",
    "        reader = csv.reader(file)\n",
    "        \n",
    "        # Enumerate through the rows in the CSV file\n",
    "        for line_number, row in enumerate(reader, start=1):\n",
    "            # If the current line number is in the list of line numbers to store, save it\n",
    "            if line_number in line_numbers_to_store:\n",
    "                stored_lines.append(','.join(row))  # Convert the list row to a string\n",
    "        \n",
    "    return stored_lines\n"
   ]
  },
  {
   "cell_type": "markdown",
   "metadata": {},
   "source": [
    "# <span style=\"color: green;\">Worker Entering Zone Scenario</span>"
   ]
  },
  {
   "cell_type": "markdown",
   "metadata": {},
   "source": [
    "## Denied Entry\n"
   ]
  },
  {
   "cell_type": "code",
   "execution_count": 4,
   "metadata": {},
   "outputs": [
    {
     "name": "stderr",
     "output_type": "stream",
     "text": [
      "C:\\Users\\omarf\\AppData\\Local\\Temp\\ipykernel_25628\\3719143575.py:35: SettingWithCopyWarning: \n",
      "A value is trying to be set on a copy of a slice from a DataFrame.\n",
      "Try using .loc[row_indexer,col_indexer] = value instead\n",
      "\n",
      "See the caveats in the documentation: https://pandas.pydata.org/pandas-docs/stable/user_guide/indexing.html#returning-a-view-versus-a-copy\n",
      "  filtered_data['Timestamp'] = pd.to_datetime(filtered_data['Timestamp'], errors='coerce')\n"
     ]
    }
   ],
   "source": [
    "directory = \"..\\\\logs\"  # Replace with the path to your CSV files\n",
    "object_name_filter = ['RoofZone_GateNode', \n",
    "                      'RoofZone_GateNode_controller',\n",
    "                      'RoofZone_GateNode_scanner',\n",
    "                      'RoofZone_GateNode_relay',\n",
    "                      'RoofZone_GateNode_motor',\n",
    "                      'RoofZone_ControlNode',\n",
    "                      'RoofZone_ControlNode_controller',\n",
    "                      ]  # Replace with the object names to filter\n",
    "result = combine_and_filter_csv_files(directory, object_name_filter)\n",
    "\n",
    "# Save the DataFrame to a CSV file\n",
    "result.to_csv('combinedLogs.csv', index=False)\n",
    "\n"
   ]
  },
  {
   "cell_type": "code",
   "execution_count": 5,
   "metadata": {},
   "outputs": [
    {
     "name": "stdout",
     "output_type": "stream",
     "text": [
      "@startuml\n",
      "participant RoofZone_GateNode\n",
      "participant RoofZone_GateNode_controller\n",
      "participant RoofZone_ControlNode\n",
      "participant RoofZone_ControlNode_controller\n",
      "RoofZone_GateNode_controller -> RoofZone_GateNode_controller : 1\n",
      "RoofZone_GateNode_controller -> RoofZone_GateNode_controller : 2\n",
      "RoofZone_GateNode -> RoofZone_GateNode : 3\n",
      "RoofZone_ControlNode -> RoofZone_ControlNode : 4\n",
      "RoofZone_ControlNode_controller -> RoofZone_ControlNode_controller : 5\n",
      "RoofZone_ControlNode -> RoofZone_ControlNode : 6\n",
      "RoofZone_GateNode -> RoofZone_GateNode : 7\n",
      "RoofZone_GateNode_controller -> RoofZone_GateNode_controller : 8\n",
      "RoofZone_GateNode_controller -> RoofZone_GateNode_controller : 9\n",
      "note right of RoofZone_GateNode\n",
      "  1: [12:38:16.956494400] [SUCCESS] Received field [ID] from object [RoofZone_GateNode_scanner]. Value [Bruno]\n",
      "  2: [12:38:16.971265800] Asked Parent Node [RoofZone_GateNode] about ID [Bruno]s permission\n",
      "  3: [12:38:17.091120900] Asked Control Node [RoofZone_ControlNode] about ID [Bruno]s permission\n",
      "  4: [12:38:17.108066700] Gate [RoofZone_GateNode] queried permission status for ID [Bruno]\n",
      "  5: [12:38:17.110043800] Parent Node [RoofZone_ControlNode] asked if ID [Bruno] is permitted to enter zone. Permission [DENIED]\n",
      "  6: [12:38:17.111659900] Gate [RoofZone_GateNode] queried permission status for ID [Bruno]. Permission [DENIED]\n",
      "  7: [12:38:17.124630100] ID [Bruno]s permission: [DENIED]\n",
      "  8: [12:38:17.151296600] ID [Bruno]s permission: [DENIED]\n",
      "  9: [12:38:17.286158800] [SUCCESS] Switched object [RoofZone_GateNode_relay] position [0] to [OFF]\n",
      "end note\n",
      "@enduml\n",
      "\n"
     ]
    }
   ],
   "source": [
    "# Example log data as an array of strings\n",
    "logs = [\n",
    "'2024-11-26 12:38:16.956494400,RoofZone_GateNode_controller,[SUCCESS] Received field [ID] from object [RoofZone_GateNode_scanner]. Value [Bruno]',\n",
    "'2024-11-26 12:38:16.971265800,RoofZone_GateNode_controller,Asked Parent Node [RoofZone_GateNode] about ID [Bruno]''s permission',\n",
    "'2024-11-26 12:38:17.091120900,RoofZone_GateNode,Asked Control Node [RoofZone_ControlNode] about ID [Bruno]''s permission',\n",
    "'2024-11-26 12:38:17.108066700,RoofZone_ControlNode,Gate [RoofZone_GateNode] queried permission status for ID [Bruno]',\n",
    "'2024-11-26 12:38:17.110043800,RoofZone_ControlNode_controller,Parent Node [RoofZone_ControlNode] asked if ID [Bruno] is permitted to enter zone. Permission [DENIED]',\n",
    "'2024-11-26 12:38:17.111659900,RoofZone_ControlNode,Gate [RoofZone_GateNode] queried permission status for ID [Bruno]. Permission [DENIED]',\n",
    "'2024-11-26 12:38:17.124630100,RoofZone_GateNode,ID [Bruno]''s permission: [DENIED]',\n",
    "'2024-11-26 12:38:17.151296600,RoofZone_GateNode_controller,ID [Bruno]''s permission: [DENIED]',\n",
    "'2024-11-26 12:38:17.286158800,RoofZone_GateNode_controller,[SUCCESS] Switched object [RoofZone_GateNode_relay] position [0] to [OFF]'\n",
    "]\n",
    "\n",
    "# Generate PlantUML code\n",
    "plantuml_sequence = create_plantuml_sequence(logs)\n",
    "print(plantuml_sequence)\n"
   ]
  },
  {
   "cell_type": "markdown",
   "metadata": {},
   "source": [
    "## Allowed Entry"
   ]
  },
  {
   "cell_type": "code",
   "execution_count": 6,
   "metadata": {},
   "outputs": [
    {
     "name": "stderr",
     "output_type": "stream",
     "text": [
      "C:\\Users\\omarf\\AppData\\Local\\Temp\\ipykernel_25628\\3719143575.py:35: SettingWithCopyWarning: \n",
      "A value is trying to be set on a copy of a slice from a DataFrame.\n",
      "Try using .loc[row_indexer,col_indexer] = value instead\n",
      "\n",
      "See the caveats in the documentation: https://pandas.pydata.org/pandas-docs/stable/user_guide/indexing.html#returning-a-view-versus-a-copy\n",
      "  filtered_data['Timestamp'] = pd.to_datetime(filtered_data['Timestamp'], errors='coerce')\n"
     ]
    }
   ],
   "source": [
    "directory = \"..\\\\logs\"  # Replace with the path to your CSV files\n",
    "object_name_filter = ['RoofZone_GateNode', \n",
    "                      'RoofZone_GateNode_controller',\n",
    "                      'RoofZone_GateNode_scanner',\n",
    "                      'RoofZone_GateNode_relay',\n",
    "                      'RoofZone_GateNode_motor',\n",
    "                      'RoofZone_ControlNode',\n",
    "                      'RoofZone_ControlNode_controller',\n",
    "                      ]  # Replace with the object names to filter\n",
    "result = combine_and_filter_csv_files(directory, object_name_filter)\n",
    "\n",
    "# Save the DataFrame to a CSV file\n",
    "result.to_csv('combinedLogs.csv', index=False)\n",
    "\n"
   ]
  },
  {
   "cell_type": "code",
   "execution_count": 7,
   "metadata": {},
   "outputs": [
    {
     "name": "stdout",
     "output_type": "stream",
     "text": [
      "@startuml\n",
      "participant RoofZone_GateNode\n",
      "participant RoofZone_GateNode_controller\n",
      "participant RoofZone_ControlNode\n",
      "participant RoofZone_ControlNode_controller\n",
      "RoofZone_GateNode_controller -> RoofZone_GateNode_controller : 1\n",
      "RoofZone_GateNode_controller -> RoofZone_GateNode_controller : 2\n",
      "RoofZone_GateNode -> RoofZone_GateNode : 3\n",
      "RoofZone_ControlNode -> RoofZone_ControlNode : 4\n",
      "RoofZone_ControlNode_controller -> RoofZone_ControlNode_controller : 5\n",
      "RoofZone_ControlNode -> RoofZone_ControlNode : 6\n",
      "RoofZone_GateNode -> RoofZone_GateNode : 7\n",
      "RoofZone_GateNode_controller -> RoofZone_GateNode_controller : 8\n",
      "RoofZone_GateNode_controller -> RoofZone_GateNode_controller : 9\n",
      "note right of RoofZone_GateNode\n",
      "  1: [12:38:21.887168400] [SUCCESS] Received field [ID] from object [RoofZone_GateNode_scanner]. Value [Omar]\n",
      "  2: [12:38:21.887168400] Asked Parent Node [RoofZone_GateNode] about ID [Omar]'s permission\n",
      "  3: [12:38:21.888161000] Asked Control Node [RoofZone_ControlNode] about ID [Omar]'s permission\n",
      "  4: [12:38:21.903017800] Gate [RoofZone_GateNode] queried permission status for ID [Omar]\n",
      "  5: [12:38:21.903379700] Parent Node [RoofZone_ControlNode] asked if ID [Omar] is permitted to enter zone. Permission [ALLOWED]\n",
      "  6: [12:38:21.903379700] Gate [RoofZone_GateNode] queried permission status for ID [Omar]. Permission [ALLOWED]\n",
      "  7: [12:38:21.918834800] ID [Omar]'s permission: [ALLOWED]\n",
      "  8: [12:38:21.918834800] ID [Omar]'s permission: [ALLOWED]\n",
      "  9: [12:38:21.918834800] [SUCCESS] Switched object [RoofZone_GateNode_relay] position [0] to [ON]\n",
      "end note\n",
      "@enduml\n",
      "\n"
     ]
    }
   ],
   "source": [
    "# Example log data as an array of strings\n",
    "logs = [\n",
    "'2024-11-26 12:38:21.887168400,RoofZone_GateNode_controller,[SUCCESS] Received field [ID] from object [RoofZone_GateNode_scanner]. Value [Omar]',\n",
    "'2024-11-26 12:38:21.887168400,RoofZone_GateNode_controller,Asked Parent Node [RoofZone_GateNode] about ID [Omar]\\'s permission',\n",
    "'2024-11-26 12:38:21.888161000,RoofZone_GateNode,Asked Control Node [RoofZone_ControlNode] about ID [Omar]\\'s permission',\n",
    "'2024-11-26 12:38:21.903017800,RoofZone_ControlNode,Gate [RoofZone_GateNode] queried permission status for ID [Omar]',\n",
    "'2024-11-26 12:38:21.903379700,RoofZone_ControlNode_controller,Parent Node [RoofZone_ControlNode] asked if ID [Omar] is permitted to enter zone. Permission [ALLOWED]',\n",
    "'2024-11-26 12:38:21.903379700,RoofZone_ControlNode,Gate [RoofZone_GateNode] queried permission status for ID [Omar]. Permission [ALLOWED]',\n",
    "'2024-11-26 12:38:21.918834800,RoofZone_GateNode,ID [Omar]\\'s permission: [ALLOWED]',\n",
    "'2024-11-26 12:38:21.918834800,RoofZone_GateNode_controller,ID [Omar]\\'s permission: [ALLOWED]',\n",
    "'2024-11-26 12:38:21.918834800,RoofZone_GateNode_controller,[SUCCESS] Switched object [RoofZone_GateNode_relay] position [0] to [ON]',\n",
    "\n",
    "]\n",
    "\n",
    "# Generate PlantUML code\n",
    "plantuml_sequence = create_plantuml_sequence(logs)\n",
    "print(plantuml_sequence)\n"
   ]
  },
  {
   "cell_type": "markdown",
   "metadata": {},
   "source": [
    "# <span style=\"color: green;\">Safety Hook Scenario</span>"
   ]
  },
  {
   "cell_type": "markdown",
   "metadata": {},
   "source": [
    "## Not Wearing"
   ]
  },
  {
   "cell_type": "code",
   "execution_count": 8,
   "metadata": {},
   "outputs": [
    {
     "name": "stderr",
     "output_type": "stream",
     "text": [
      "C:\\Users\\omarf\\AppData\\Local\\Temp\\ipykernel_25628\\3719143575.py:35: SettingWithCopyWarning: \n",
      "A value is trying to be set on a copy of a slice from a DataFrame.\n",
      "Try using .loc[row_indexer,col_indexer] = value instead\n",
      "\n",
      "See the caveats in the documentation: https://pandas.pydata.org/pandas-docs/stable/user_guide/indexing.html#returning-a-view-versus-a-copy\n",
      "  filtered_data['Timestamp'] = pd.to_datetime(filtered_data['Timestamp'], errors='coerce')\n"
     ]
    }
   ],
   "source": [
    "directory = \"..\\\\logs\"  # Replace with the path to your CSV files\n",
    "object_name_filter = ['RoofZone_SmartRopeNode1', \n",
    "                      'RoofZone_SmartRopeNode1_controller', \n",
    "                      'RoofZone_ControlNode',\n",
    "                      'RoofZone_ControlNode_controller',\n",
    "                      'RoofZone_BuzzerNode',\n",
    "                      'RoofZone_BuzzerNode_controller',\n",
    "                      'RoofZone_SpeakerNode',\n",
    "                      'RoofZone_SpeakerNode_controller'\n",
    "                      ]  # Replace with the object names to filter\n",
    "result = combine_and_filter_csv_files(directory, object_name_filter)\n",
    "\n",
    "# Save the DataFrame to a CSV file\n",
    "result.to_csv('combinedLogs.csv', index=False)\n",
    "\n"
   ]
  },
  {
   "cell_type": "code",
   "execution_count": 12,
   "metadata": {},
   "outputs": [
    {
     "name": "stdout",
     "output_type": "stream",
     "text": [
      "@startuml\n",
      "participant RoofZone_SpeakerNode_controller\n",
      "participant RoofZone_BuzzerNode\n",
      "participant RoofZone_BuzzerNode_controller\n",
      "participant RoofZone_SmartRopeNode1\n",
      "participant RoofZone_SmartRopeNode1_controller\n",
      "participant RoofZone_ControlNode_controller\n",
      "participant RoofZone_ControlNode\n",
      "participant RoofZone_SpeakerNode\n",
      "RoofZone_SmartRopeNode1_controller -> RoofZone_SmartRopeNode1_controller : 1\n",
      "RoofZone_SmartRopeNode1_controller -> RoofZone_SmartRopeNode1_controller : 2\n",
      "RoofZone_SmartRopeNode1 -> RoofZone_SmartRopeNode1 : 3\n",
      "RoofZone_ControlNode -> RoofZone_ControlNode : 4\n",
      "RoofZone_SmartRopeNode1 -> RoofZone_SmartRopeNode1 : 5\n",
      "RoofZone_ControlNode_controller -> RoofZone_ControlNode_controller : 6\n",
      "RoofZone_ControlNode -> RoofZone_ControlNode : 7\n",
      "RoofZone_BuzzerNode -> RoofZone_BuzzerNode : 8\n",
      "RoofZone_BuzzerNode -> RoofZone_BuzzerNode : 9\n",
      "RoofZone_BuzzerNode_controller -> RoofZone_BuzzerNode_controller : 10\n",
      "RoofZone_BuzzerNode -> RoofZone_BuzzerNode : 11\n",
      "RoofZone_BuzzerNode -> RoofZone_BuzzerNode : 12\n",
      "RoofZone_ControlNode -> RoofZone_ControlNode : 13\n",
      "RoofZone_ControlNode_controller -> RoofZone_ControlNode_controller : 14\n",
      "RoofZone_ControlNode -> RoofZone_ControlNode : 15\n",
      "RoofZone_ControlNode_controller -> RoofZone_ControlNode_controller : 16\n",
      "RoofZone_SpeakerNode -> RoofZone_SpeakerNode : 17\n",
      "RoofZone_SpeakerNode -> RoofZone_SpeakerNode : 18\n",
      "RoofZone_SpeakerNode -> RoofZone_SpeakerNode : 19\n",
      "RoofZone_SpeakerNode_controller -> RoofZone_SpeakerNode_controller : 20\n",
      "RoofZone_SpeakerNode -> RoofZone_SpeakerNode : 21\n",
      "RoofZone_ControlNode -> RoofZone_ControlNode : 22\n",
      "RoofZone_ControlNode_controller -> RoofZone_ControlNode_controller : 23\n",
      "note right of RoofZone_SpeakerNode_controller\n",
      "  1: [14:51:54.757824000] [SUCCESS] Received field [Is Attached] from object [RoofZone_SmartRopeNode1_SmartRope]. Value [0]\n",
      "  2: [14:51:54.760832600] Sent [1] packets to parent node to publish them\n",
      "  3: [14:51:54.761825900] Started Publishing (1) packets to Control Node [RoofZone_ControlNode]\n",
      "  4: [14:51:54.788461200] Received (1) new packets from slave node [RoofZone_SmartRopeNode1]\n",
      "  5: [14:51:54.802459500] Done Publishing (1) packets to Control Node [RoofZone_ControlNode]\n",
      "  6: [14:51:55.299751300] Asked parent node to set switch position [0] in object [RoofZone_BuzzerNode_actuator] in slave node [RoofZone_BuzzerNode]\n",
      "  7: [14:51:55.301510500] Attempted setting switch position [0] in object [RoofZone_BuzzerNode_actuator] in slave node [RoofZone_BuzzerNode]\n",
      "  8: [14:51:55.312996000] Node [RoofZone_ControlNode] attempted updating switch position [0] in object [RoofZone_BuzzerNode_actuator]\n",
      "  9: [14:51:55.312996000] Attempted switching position [0] in object [RoofZone_BuzzerNode_actuator] through local controller.\n",
      "  10: [14:51:55.313997300] [SUCCESS] Switched object [RoofZone_BuzzerNode_actuator] position [0] to [ON]\n",
      "  11: [14:51:55.314991500] [SUCCESS] Switched position [0] in object [RoofZone_BuzzerNode_actuator] through local controller. New State [ON]\n",
      "  12: [14:51:55.316020600] [SUCCESS] Node [RoofZone_ControlNode] attempted updating switch position [0] in object [RoofZone_BuzzerNode_actuator]. New State [ON]\n",
      "  13: [14:51:55.330339400] [SUCCESS] Set switch position [0] in object [RoofZone_BuzzerNode_actuator] in slave node [RoofZone_BuzzerNode]. New State [ON]\n",
      "  14: [14:51:55.331940400] [SUCCESS] Parent node set switch position [0] in object [RoofZone_BuzzerNode_actuator] in slave node [RoofZone_BuzzerNode]\n",
      "  15: [14:51:55.332954800] Attempted setting field [Played Message] in object [RoofZone_SpeakerNode_speaker] in slave node [RoofZone_SpeakerNode]\n",
      "  16: [14:51:55.332954800] Asked parent node to set field [Played Message] in object [RoofZone_SpeakerNode_speaker] in slave node [RoofZone_SpeakerNode]\n",
      "  17: [14:51:55.348285200] Attempted setting field [Played Message] in object [RoofZone_SpeakerNode_speaker] through local controller\n",
      "  18: [14:51:55.348285200] Node [RoofZone_ControlNode] attempted updating field [Played Message] in object [RoofZone_SpeakerNode_speaker]\n",
      "  19: [14:51:55.350303700] [SUCCESS] Set field [Played Message] in object [RoofZone_SpeakerNode_speaker] through local controller. New Value [One or more safety ropes not attached!!!!]\n",
      "  20: [14:51:55.350303700] [SUCCESS] Set field [Played Message] in object [RoofZone_SpeakerNode_speaker]\n",
      "  21: [14:51:55.352304800] [SUCCESS] Node [RoofZone_ControlNode] attempted updating field [Played Message] in object [RoofZone_SpeakerNode_speaker]. New Value [One or more safety ropes not attached!!!!]\n",
      "  22: [14:51:55.377397400] [SUCCESS] Set field [Played Message] in object [RoofZone_SpeakerNode_speaker] in slave node [RoofZone_SpeakerNode]. New Value [One or more safety ropes not attached!!!!]\n",
      "  23: [14:51:55.378412800] [SUCCESS] Parent set field [Played Message] in object [RoofZone_SpeakerNode_speaker] in slave node [RoofZone_SpeakerNode]\n",
      "end note\n",
      "@enduml\n",
      "\n"
     ]
    }
   ],
   "source": [
    "\n",
    "line_numbers_to_store = [221,223,225,229,233,251,253,254,255,256,258,260,269,270,272,271,276,275,278,277,279,280,282]\n",
    "logs = get_specific_line_numbers(csv_file_path, line_numbers_to_store)\n",
    "\n",
    "# Generate PlantUML code\n",
    "plantuml_sequence = create_plantuml_sequence(logs)\n",
    "print(plantuml_sequence)\n"
   ]
  }
 ],
 "metadata": {
  "kernelspec": {
   "display_name": "base",
   "language": "python",
   "name": "python3"
  },
  "language_info": {
   "codemirror_mode": {
    "name": "ipython",
    "version": 3
   },
   "file_extension": ".py",
   "mimetype": "text/x-python",
   "name": "python",
   "nbconvert_exporter": "python",
   "pygments_lexer": "ipython3",
   "version": "3.11.5"
  }
 },
 "nbformat": 4,
 "nbformat_minor": 2
}
